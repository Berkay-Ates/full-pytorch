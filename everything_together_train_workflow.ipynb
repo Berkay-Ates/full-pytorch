{
 "cells": [
  {
   "cell_type": "code",
   "execution_count": 250,
   "metadata": {},
   "outputs": [
    {
     "name": "stdout",
     "output_type": "stream",
     "text": [
      "2.1.2+cu118\n"
     ]
    }
   ],
   "source": [
    "import torch\n",
    "from torch import nn\n",
    "import pandas as pd \n",
    "import numpy as np \n",
    "import matplotlib.pyplot as plt \n",
    "\n",
    "print(torch.__version__)"
   ]
  },
  {
   "cell_type": "markdown",
   "metadata": {},
   "source": [
    "### DEVICE SETUP\n",
    "\n",
    "Create device agnostic code \n",
    "\n",
    "This means if we got access to a GPU, our code will use it (for potentially faster computing)\n",
    "\n",
    "If no GPU is available the code will run on CPU"
   ]
  },
  {
   "cell_type": "code",
   "execution_count": 251,
   "metadata": {},
   "outputs": [
    {
     "name": "stdout",
     "output_type": "stream",
     "text": [
      "using device: cuda\n",
      "Sun Jan 28 21:53:46 2024       \n",
      "+---------------------------------------------------------------------------------------+\n",
      "| NVIDIA-SMI 546.26                 Driver Version: 546.26       CUDA Version: 12.3     |\n",
      "|-----------------------------------------+----------------------+----------------------+\n",
      "| GPU  Name                     TCC/WDDM  | Bus-Id        Disp.A | Volatile Uncorr. ECC |\n",
      "| Fan  Temp   Perf          Pwr:Usage/Cap |         Memory-Usage | GPU-Util  Compute M. |\n",
      "|                                         |                      |               MIG M. |\n",
      "|=========================================+======================+======================|\n",
      "|   0  NVIDIA GeForce RTX 3060 ...  WDDM  | 00000000:01:00.0 Off |                  N/A |\n",
      "| N/A   48C    P8               9W /  95W |    260MiB /  6144MiB |      0%      Default |\n",
      "|                                         |                      |                  N/A |\n",
      "+-----------------------------------------+----------------------+----------------------+\n",
      "                                                                                         \n",
      "+---------------------------------------------------------------------------------------+\n",
      "| Processes:                                                                            |\n",
      "|  GPU   GI   CI        PID   Type   Process name                            GPU Memory |\n",
      "|        ID   ID                                                             Usage      |\n",
      "|=======================================================================================|\n",
      "|    0   N/A  N/A     10984    C+G   ...Brave-Browser\\Application\\brave.exe    N/A      |\n",
      "|    0   N/A  N/A     20296      C   C:\\Users\\atesb\\miniconda3\\python.exe      N/A      |\n",
      "+---------------------------------------------------------------------------------------+\n"
     ]
    }
   ],
   "source": [
    "device = 'cuda' if torch.cuda.is_available() else 'cpu'\n",
    "print(f'using device: {device}')\n",
    "!nvidia-smi"
   ]
  },
  {
   "cell_type": "markdown",
   "metadata": {},
   "source": [
    "### DATA SETUP"
   ]
  },
  {
   "cell_type": "code",
   "execution_count": 252,
   "metadata": {},
   "outputs": [
    {
     "data": {
      "text/plain": [
       "(tensor([[0.0000],\n",
       "         [0.0200],\n",
       "         [0.0400],\n",
       "         [0.0600],\n",
       "         [0.0800],\n",
       "         [0.1000],\n",
       "         [0.1200],\n",
       "         [0.1400],\n",
       "         [0.1600],\n",
       "         [0.1800]]),\n",
       " tensor([[0.3000],\n",
       "         [0.3140],\n",
       "         [0.3280],\n",
       "         [0.3420],\n",
       "         [0.3560],\n",
       "         [0.3700],\n",
       "         [0.3840],\n",
       "         [0.3980],\n",
       "         [0.4120],\n",
       "         [0.4260]]))"
      ]
     },
     "execution_count": 252,
     "metadata": {},
     "output_type": "execute_result"
    }
   ],
   "source": [
    "# Create some data using the linear regression formula of y = weight *x + bias \n",
    "weight = 0.7 \n",
    "bias = 0.3 \n",
    "\n",
    "# Create range values \n",
    "start = 0\n",
    "end = 1\n",
    "step = 0.02\n",
    "\n",
    "# Create X and y (features and labels)\n",
    "X = torch.arange(start,end,step).unsqueeze(dim=1)\n",
    "y = X*weight + bias\n",
    "\n",
    "X[:10], y[:10]"
   ]
  },
  {
   "cell_type": "code",
   "execution_count": 253,
   "metadata": {},
   "outputs": [
    {
     "data": {
      "text/plain": [
       "(40, 40, 10, 10)"
      ]
     },
     "execution_count": 253,
     "metadata": {},
     "output_type": "execute_result"
    }
   ],
   "source": [
    "# Train Split \n",
    "train_split = int(0.8*len(X))\n",
    "X_train, y_train = X[:train_split], y[:train_split]\n",
    "X_test , y_test = X[train_split:] , y[train_split:]\n",
    "\n",
    "len(X_train), len(y_train), len(X_test), len(y_test)"
   ]
  },
  {
   "cell_type": "code",
   "execution_count": 254,
   "metadata": {},
   "outputs": [],
   "source": [
    "# Plot the data \n",
    "def plot_predictions(train_data=X_train,train_labels=y_train,test_data=X_test,test_labels=y_test,predictions=None):\n",
    "    \"\"\" Plots training data , test data and compare predictions \"\"\"\n",
    "    plt.figure(figsize=(10,7))\n",
    "    \n",
    "    # plot the training in blue \n",
    "    plt.scatter(train_data,train_labels,c='b',s=4,label='Training Data')\n",
    "    \n",
    "    # plot the test data in green \n",
    "    plt.scatter(test_data,test_labels,c='g',s=4,label='Testing Data')\n",
    "    \n",
    "    if predictions is not None:\n",
    "        #* Plot the predictions if they exists \n",
    "        plt.scatter(test_data,predictions,c='r',s=4,label='Predictions')\n",
    "        \n",
    "    plt.legend(prop={\"size\":14})"
   ]
  },
  {
   "cell_type": "code",
   "execution_count": 255,
   "metadata": {},
   "outputs": [
    {
     "data": {
      "image/png": "[encoded data removed]",
      "text/plain": [
       "<Figure size 1000x700 with 1 Axes>"
      ]
     },
     "metadata": {},
     "output_type": "display_data"
    }
   ],
   "source": [
    "plot_predictions(X_train, y_train, X_test, y_test)"
   ]
  },
  {
   "cell_type": "markdown",
   "metadata": {},
   "source": [
    "### Building the PyTorch Linear Model"
   ]
  },
  {
   "cell_type": "code",
   "execution_count": 256,
   "metadata": {},
   "outputs": [
    {
     "data": {
      "text/plain": [
       "(LinearRegressionModel(\n",
       "   (liner_layer): Linear(in_features=1, out_features=1, bias=True)\n",
       " ),\n",
       " OrderedDict([('liner_layer.weight', tensor([[0.7645]])),\n",
       "              ('liner_layer.bias', tensor([0.8300]))]))"
      ]
     },
     "execution_count": 256,
     "metadata": {},
     "output_type": "execute_result"
    }
   ],
   "source": [
    "class LinearRegressionModel(nn.Module):\n",
    "    def __init__(self) :\n",
    "        super().__init__()\n",
    "        #* use nn.linear for creating the model parameters \n",
    "        #* also called:Linear Transform , Probing Layer , Fully Connected Layer , Dense Layer (in Tensorflow)\n",
    "        self.liner_layer = nn.Linear(in_features=1,out_features=1)\n",
    "        \n",
    "    def forward(self,x:torch.Tensor)->torch.Tensor:\n",
    "        return self.liner_layer(x)\n",
    "\n",
    "#* Set the manual seed \n",
    "ANSWER_OF_UNIVERSE = 42\n",
    "torch.manual_seed(ANSWER_OF_UNIVERSE)\n",
    "model = LinearRegressionModel()\n",
    "model, model.state_dict()"
   ]
  },
  {
   "cell_type": "markdown",
   "metadata": {},
   "source": [
    "### Set the Target Device to the Model"
   ]
  },
  {
   "cell_type": "code",
   "execution_count": 257,
   "metadata": {},
   "outputs": [
    {
     "data": {
      "text/plain": [
       "'cuda'"
      ]
     },
     "execution_count": 257,
     "metadata": {},
     "output_type": "execute_result"
    }
   ],
   "source": [
    "device"
   ]
  },
  {
   "cell_type": "code",
   "execution_count": 258,
   "metadata": {},
   "outputs": [
    {
     "data": {
      "text/plain": [
       "LinearRegressionModel(\n",
       "  (liner_layer): Linear(in_features=1, out_features=1, bias=True)\n",
       ")"
      ]
     },
     "execution_count": 258,
     "metadata": {},
     "output_type": "execute_result"
    }
   ],
   "source": [
    "model.to(device)"
   ]
  },
  {
   "cell_type": "code",
   "execution_count": 259,
   "metadata": {},
   "outputs": [
    {
     "data": {
      "text/plain": [
       "device(type='cuda', index=0)"
      ]
     },
     "execution_count": 259,
     "metadata": {},
     "output_type": "execute_result"
    }
   ],
   "source": [
    "next(model.parameters()).device"
   ]
  },
  {
   "cell_type": "markdown",
   "metadata": {},
   "source": [
    "### Training Code\n",
    "\n",
    "* For Training We Need\n",
    "    * Loss Function \n",
    "    * Optimizer \n",
    "    * Trainig Loop \n",
    "    * Testing Loop"
   ]
  },
  {
   "cell_type": "code",
   "execution_count": 260,
   "metadata": {},
   "outputs": [],
   "source": [
    "# Set up loss function \n",
    "loss_fn = nn.L1Loss()\n",
    "\n",
    "# Set up our optimizer \n",
    "optimizer = torch.optim.SGD(params=model.parameters(), lr=0.01)\n"
   ]
  },
  {
   "cell_type": "code",
   "execution_count": 261,
   "metadata": {},
   "outputs": [
    {
     "name": "stdout",
     "output_type": "stream",
     "text": [
      "Epoch:0, | Loss:0.5551779866218567 , test_loss:0.5739762187004089 \n",
      "Epoch:10, | Loss:0.439968079328537 , test_loss:0.4392664134502411 \n",
      "Epoch:20, | Loss:0.3247582018375397 , test_loss:0.30455657839775085 \n",
      "Epoch:30, | Loss:0.20954833924770355 , test_loss:0.16984669864177704 \n",
      "Epoch:40, | Loss:0.09433845430612564 , test_loss:0.03513690456748009 \n",
      "Epoch:50, | Loss:0.023886388167738914 , test_loss:0.04784907028079033 \n",
      "Epoch:60, | Loss:0.019956795498728752 , test_loss:0.045803118497133255 \n",
      "Epoch:70, | Loss:0.016517987474799156 , test_loss:0.037530567497015 \n",
      "Epoch:80, | Loss:0.013089174404740334 , test_loss:0.02994490973651409 \n",
      "Epoch:90, | Loss:0.009653178043663502 , test_loss:0.02167237363755703 \n",
      "Epoch:100, | Loss:0.006215683650225401 , test_loss:0.014086711220443249 \n",
      "Epoch:110, | Loss:0.00278724217787385 , test_loss:0.005814164876937866 \n",
      "Epoch:120, | Loss:0.0012645035749301314 , test_loss:0.013801801018416882 \n",
      "Epoch:130, | Loss:0.0012645035749301314 , test_loss:0.013801801018416882 \n",
      "Epoch:140, | Loss:0.0012645035749301314 , test_loss:0.013801801018416882 \n",
      "CPU times: total: 0 ns\n",
      "Wall time: 200 ms\n"
     ]
    }
   ],
   "source": [
    "%%time\n",
    "# Training set-up \n",
    "torch.manual_seed(ANSWER_OF_UNIVERSE)\n",
    "\n",
    "epoch_record = []\n",
    "loss_record = []\n",
    "test_loss_record = []\n",
    "\n",
    "#* Put data on to target device \n",
    "\n",
    "model.to(device)\n",
    "\n",
    "X_train =  X_train.to(device)\n",
    "X_test = X_test.to(device)\n",
    "\n",
    "y_train = y_train.to(device)\n",
    "y_test =  y_test.to(device)\n",
    "\n",
    "epochs = 150\n",
    "for epoch in range(epochs):\n",
    "    \n",
    "    # swith model to train mode \n",
    "    model.train()\n",
    "    \n",
    "    # 1. Forward Pass \n",
    "    y_pred =  model.forward(X_train)\n",
    "    \n",
    "    # 2. Calculate loss \n",
    "    loss = loss_fn(y_pred,y_train)\n",
    "    \n",
    "    # 3. optimizer zero grad \n",
    "    optimizer.zero_grad()\n",
    "    \n",
    "    # 4. zero grad \n",
    "    loss.backward()\n",
    "    \n",
    "    # 5. optimizer step \n",
    "    optimizer.step()\n",
    "    \n",
    "    \n",
    "    # 6. Testing the model \"\"\n",
    "    model.eval()\n",
    "    with torch.inference_mode():\n",
    "        test_pred = model(X_test)\n",
    "        test_loss = loss_fn(test_pred,y_test)\n",
    "        \n",
    "        epoch_record.append(epoch)\n",
    "        loss_record.append(loss)\n",
    "        test_loss_record.append(test_loss)\n",
    "        \n",
    "    if epoch % 10 == 0: \n",
    "        print(f'Epoch:{epoch}, | Loss:{loss} , test_loss:{test_loss} ')\n",
    "        \n"
   ]
  },
  {
   "cell_type": "code",
   "execution_count": 262,
   "metadata": {},
   "outputs": [
    {
     "data": {
      "text/plain": [
       "(OrderedDict([('liner_layer.weight', tensor([[0.6968]], device='cuda:0')),\n",
       "              ('liner_layer.bias', tensor([0.3025], device='cuda:0'))]),\n",
       " 0.7,\n",
       " 0.3)"
      ]
     },
     "execution_count": 262,
     "metadata": {},
     "output_type": "execute_result"
    }
   ],
   "source": [
    "model.state_dict() , weight, bias"
   ]
  },
  {
   "cell_type": "code",
   "execution_count": 263,
   "metadata": {},
   "outputs": [],
   "source": [
    "# epoch_record,loss_record,test_loss_record"
   ]
  },
  {
   "cell_type": "code",
   "execution_count": 264,
   "metadata": {},
   "outputs": [
    {
     "data": {
      "text/plain": [
       "<matplotlib.legend.Legend at 0x19810076020>"
      ]
     },
     "execution_count": 264,
     "metadata": {},
     "output_type": "execute_result"
    },
    {
     "data": {
      "image/png": "[encoded data removed]",
      "text/plain": [
       "<Figure size 640x480 with 1 Axes>"
      ]
     },
     "metadata": {},
     "output_type": "display_data"
    }
   ],
   "source": [
    "    \n",
    "#* plot the progress of the our parameters \n",
    "plt.plot(epoch_record,torch.tensor(loss_record).to('cpu').numpy(),label='Train Loss record')\n",
    "plt.plot(epoch_record,torch.tensor(test_loss_record).to('cpu').numpy(),label='Train Loss record')\n",
    "plt.title('Training and Test loss curve ')\n",
    "plt.ylabel(\"loss\")\n",
    "plt.xlabel(\"epoch\")\n",
    "plt.legend()"
   ]
  },
  {
   "cell_type": "code",
   "execution_count": 265,
   "metadata": {},
   "outputs": [
    {
     "data": {
      "image/png": "[encoded data removed]",
      "text/plain": [
       "<Figure size 1000x700 with 1 Axes>"
      ]
     },
     "metadata": {},
     "output_type": "display_data"
    }
   ],
   "source": [
    "model.eval()\n",
    "with torch.inference_mode():\n",
    "    y_pred = model(X_test)\n",
    "\n",
    "\n",
    "plot_predictions(predictions= (y_pred.cpu()))"
   ]
  },
  {
   "cell_type": "markdown",
   "metadata": {},
   "source": [
    "### Saving the model "
   ]
  },
  {
   "cell_type": "code",
   "execution_count": 266,
   "metadata": {},
   "outputs": [
    {
     "name": "stdout",
     "output_type": "stream",
     "text": [
      "the model state is saving to models\\01_paytorch_workflow_model_1.pth\n"
     ]
    }
   ],
   "source": [
    "from pathlib import Path\n",
    "\n",
    "#* Create model directory \n",
    "MODEL_PATH = Path('models')\n",
    "MODEL_PATH.mkdir(parents=True,exist_ok=True)\n",
    "\n",
    "#* Create model saved path \n",
    "MODEL_NAME = '01_paytorch_workflow_model_1.pth'\n",
    "MODEL_SAVE_PATH = MODEL_PATH/MODEL_NAME\n",
    "\n",
    "\n",
    "#* save the model dict instead of hole model \n",
    "print(f'the model state is saving to {MODEL_SAVE_PATH}')\n",
    "torch.save(obj=model.state_dict(),f=MODEL_SAVE_PATH)"
   ]
  },
  {
   "cell_type": "markdown",
   "metadata": {},
   "source": [
    "### Loading the model"
   ]
  },
  {
   "cell_type": "code",
   "execution_count": 267,
   "metadata": {},
   "outputs": [],
   "source": [
    "# Create a model \n",
    "model_saved = LinearRegressionModel()"
   ]
  },
  {
   "cell_type": "code",
   "execution_count": 268,
   "metadata": {},
   "outputs": [
    {
     "data": {
      "text/plain": [
       "OrderedDict([('liner_layer.weight', tensor([[0.6968]], device='cuda:0')),\n",
       "             ('liner_layer.bias', tensor([0.3025], device='cuda:0'))])"
      ]
     },
     "execution_count": 268,
     "metadata": {},
     "output_type": "execute_result"
    }
   ],
   "source": [
    "model_saved.load_state_dict(torch.load(MODEL_SAVE_PATH))\n",
    "model_saved.to(device)\n",
    "model_saved.state_dict()"
   ]
  },
  {
   "cell_type": "code",
   "execution_count": 269,
   "metadata": {},
   "outputs": [
    {
     "data": {
      "text/plain": [
       "(device(type='cuda', index=0), device(type='cuda', index=0))"
      ]
     },
     "execution_count": 269,
     "metadata": {},
     "output_type": "execute_result"
    }
   ],
   "source": [
    "next(model_saved.parameters()).device, next(model.parameters()).device"
   ]
  },
  {
   "cell_type": "code",
   "execution_count": 270,
   "metadata": {},
   "outputs": [
    {
     "data": {
      "text/plain": [
       "tensor([[True],\n",
       "        [True],\n",
       "        [True],\n",
       "        [True],\n",
       "        [True],\n",
       "        [True],\n",
       "        [True],\n",
       "        [True],\n",
       "        [True],\n",
       "        [True]], device='cuda:0')"
      ]
     },
     "execution_count": 270,
     "metadata": {},
     "output_type": "execute_result"
    }
   ],
   "source": [
    "model_saved.eval()\n",
    "with torch.inference_mode():\n",
    "    test = model_saved(X_test)\n",
    "\n",
    "test == y_pred\n"
   ]
  },
  {
   "cell_type": "code",
   "execution_count": null,
   "metadata": {},
   "outputs": [],
   "source": []
  },
  {
   "cell_type": "code",
   "execution_count": null,
   "metadata": {},
   "outputs": [],
   "source": []
  },
  {
   "cell_type": "code",
   "execution_count": null,
   "metadata": {},
   "outputs": [],
   "source": []
  },
  {
   "cell_type": "code",
   "execution_count": null,
   "metadata": {},
   "outputs": [],
   "source": []
  }
 ],
 "metadata": {
  "kernelspec": {
   "display_name": "base",
   "language": "python",
   "name": "python3"
  },
  "language_info": {
   "codemirror_mode": {
    "name": "ipython",
    "version": 3
   },
   "file_extension": ".py",
   "mimetype": "text/x-python",
   "name": "python",
   "nbconvert_exporter": "python",
   "pygments_lexer": "ipython3",
   "version": "3.10.13"
  }
 },
 "nbformat": 4,
 "nbformat_minor": 2
}
