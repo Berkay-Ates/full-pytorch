{
 "cells": [
  {
   "cell_type": "code",
   "execution_count": 1,
   "metadata": {},
   "outputs": [],
   "source": [
    "import torch"
   ]
  },
  {
   "cell_type": "code",
   "execution_count": 6,
   "metadata": {},
   "outputs": [
    {
     "name": "stdout",
     "output_type": "stream",
     "text": [
      "2.1.2+cu118\n"
     ]
    }
   ],
   "source": [
    "print(torch.__version__)"
   ]
  },
  {
   "cell_type": "code",
   "execution_count": 3,
   "metadata": {},
   "outputs": [
    {
     "name": "stdout",
     "output_type": "stream",
     "text": [
      "Collecting pandas\n",
      "  Downloading pandas-2.2.0-cp310-cp310-win_amd64.whl.metadata (19 kB)\n",
      "Requirement already satisfied: numpy<2,>=1.22.4 in c:\\users\\atesb\\miniconda3\\lib\\site-packages (from pandas) (1.26.3)\n",
      "Requirement already satisfied: python-dateutil>=2.8.2 in c:\\users\\atesb\\miniconda3\\lib\\site-packages (from pandas) (2.8.2)\n",
      "Collecting pytz>=2020.1 (from pandas)\n",
      "  Downloading pytz-2023.3.post1-py2.py3-none-any.whl.metadata (22 kB)\n",
      "Collecting tzdata>=2022.7 (from pandas)\n",
      "  Downloading tzdata-2023.4-py2.py3-none-any.whl.metadata (1.4 kB)\n",
      "Requirement already satisfied: six>=1.5 in c:\\users\\atesb\\miniconda3\\lib\\site-packages (from python-dateutil>=2.8.2->pandas) (1.16.0)\n",
      "Downloading pandas-2.2.0-cp310-cp310-win_amd64.whl (11.6 MB)\n",
      "   ---------------------------------------- 0.0/11.6 MB ? eta -:--:--\n",
      "   ---------------------------------------- 0.0/11.6 MB 960.0 kB/s eta 0:00:13\n",
      "   ---------------------------------------- 0.1/11.6 MB 1.1 MB/s eta 0:00:11\n",
      "    --------------------------------------- 0.2/11.6 MB 1.4 MB/s eta 0:00:09\n",
      "   - -------------------------------------- 0.3/11.6 MB 1.6 MB/s eta 0:00:08\n",
      "   - -------------------------------------- 0.5/11.6 MB 2.4 MB/s eta 0:00:05\n",
      "   -- ------------------------------------- 0.8/11.6 MB 3.2 MB/s eta 0:00:04\n",
      "   ---- ----------------------------------- 1.3/11.6 MB 3.9 MB/s eta 0:00:03\n",
      "   ------ --------------------------------- 1.8/11.6 MB 4.9 MB/s eta 0:00:02\n",
      "   ------- -------------------------------- 2.2/11.6 MB 5.1 MB/s eta 0:00:02\n",
      "   -------- ------------------------------- 2.4/11.6 MB 5.6 MB/s eta 0:00:02\n",
      "   -------- ------------------------------- 2.4/11.6 MB 5.6 MB/s eta 0:00:02\n",
      "   ----------- ---------------------------- 3.3/11.6 MB 5.9 MB/s eta 0:00:02\n",
      "   ------------ --------------------------- 3.7/11.6 MB 6.4 MB/s eta 0:00:02\n",
      "   ------------ --------------------------- 3.7/11.6 MB 6.4 MB/s eta 0:00:02\n",
      "   ------------ --------------------------- 3.7/11.6 MB 5.6 MB/s eta 0:00:02\n",
      "   --------------- ------------------------ 4.5/11.6 MB 5.9 MB/s eta 0:00:02\n",
      "   -------------------- ------------------- 5.9/11.6 MB 7.6 MB/s eta 0:00:01\n",
      "   --------------------- ------------------ 6.2/11.6 MB 7.6 MB/s eta 0:00:01\n",
      "   ---------------------- ----------------- 6.4/11.6 MB 7.3 MB/s eta 0:00:01\n",
      "   ----------------------- ---------------- 6.8/11.6 MB 7.4 MB/s eta 0:00:01\n",
      "   ----------------------- ---------------- 6.8/11.6 MB 7.4 MB/s eta 0:00:01\n",
      "   ------------------------- -------------- 7.4/11.6 MB 7.2 MB/s eta 0:00:01\n",
      "   ---------------------------- ----------- 8.4/11.6 MB 7.8 MB/s eta 0:00:01\n",
      "   ------------------------------ --------- 8.8/11.6 MB 7.9 MB/s eta 0:00:01\n",
      "   ------------------------------ --------- 8.8/11.6 MB 7.9 MB/s eta 0:00:01\n",
      "   --------------------------------- ------ 9.8/11.6 MB 8.1 MB/s eta 0:00:01\n",
      "   ----------------------------------- ---- 10.2/11.6 MB 8.1 MB/s eta 0:00:01\n",
      "   ------------------------------------ --- 10.5/11.6 MB 9.1 MB/s eta 0:00:01\n",
      "   ------------------------------------- -- 10.9/11.6 MB 9.4 MB/s eta 0:00:01\n",
      "   ---------------------------------------  11.3/11.6 MB 9.5 MB/s eta 0:00:01\n",
      "   ---------------------------------------  11.6/11.6 MB 9.4 MB/s eta 0:00:01\n",
      "   ---------------------------------------- 11.6/11.6 MB 9.0 MB/s eta 0:00:00\n",
      "Downloading pytz-2023.3.post1-py2.py3-none-any.whl (502 kB)\n",
      "   ---------------------------------------- 0.0/502.5 kB ? eta -:--:--\n",
      "   ---------------------------------- ---- 450.6/502.5 kB 14.2 MB/s eta 0:00:01\n",
      "   --------------------------------------- 502.5/502.5 kB 10.7 MB/s eta 0:00:00\n",
      "Downloading tzdata-2023.4-py2.py3-none-any.whl (346 kB)\n",
      "   ---------------------------------------- 0.0/346.6 kB ? eta -:--:--\n",
      "   --------------------------------------- 346.6/346.6 kB 10.8 MB/s eta 0:00:00\n",
      "Installing collected packages: pytz, tzdata, pandas\n",
      "Successfully installed pandas-2.2.0 pytz-2023.3.post1 tzdata-2023.4\n"
     ]
    }
   ],
   "source": [
    "!pip install pandas"
   ]
  },
  {
   "cell_type": "code",
   "execution_count": 4,
   "metadata": {},
   "outputs": [
    {
     "name": "stdout",
     "output_type": "stream",
     "text": [
      "Requirement already satisfied: numpy in c:\\users\\atesb\\miniconda3\\lib\\site-packages (1.26.3)\n"
     ]
    }
   ],
   "source": [
    "!pip install numpy"
   ]
  },
  {
   "cell_type": "code",
   "execution_count": 5,
   "metadata": {},
   "outputs": [
    {
     "name": "stdout",
     "output_type": "stream",
     "text": [
      "Requirement already satisfied: matplotlib in c:\\users\\atesb\\miniconda3\\lib\\site-packages (3.8.2)\n",
      "Requirement already satisfied: contourpy>=1.0.1 in c:\\users\\atesb\\miniconda3\\lib\\site-packages (from matplotlib) (1.2.0)\n",
      "Requirement already satisfied: cycler>=0.10 in c:\\users\\atesb\\miniconda3\\lib\\site-packages (from matplotlib) (0.12.1)\n",
      "Requirement already satisfied: fonttools>=4.22.0 in c:\\users\\atesb\\miniconda3\\lib\\site-packages (from matplotlib) (4.47.2)\n",
      "Requirement already satisfied: kiwisolver>=1.3.1 in c:\\users\\atesb\\miniconda3\\lib\\site-packages (from matplotlib) (1.4.5)\n",
      "Requirement already satisfied: numpy<2,>=1.21 in c:\\users\\atesb\\miniconda3\\lib\\site-packages (from matplotlib) (1.26.3)\n",
      "Requirement already satisfied: packaging>=20.0 in c:\\users\\atesb\\miniconda3\\lib\\site-packages (from matplotlib) (23.1)\n",
      "Requirement already satisfied: pillow>=8 in c:\\users\\atesb\\miniconda3\\lib\\site-packages (from matplotlib) (10.2.0)\n",
      "Requirement already satisfied: pyparsing>=2.3.1 in c:\\users\\atesb\\miniconda3\\lib\\site-packages (from matplotlib) (3.1.1)\n",
      "Requirement already satisfied: python-dateutil>=2.7 in c:\\users\\atesb\\miniconda3\\lib\\site-packages (from matplotlib) (2.8.2)\n",
      "Requirement already satisfied: six>=1.5 in c:\\users\\atesb\\miniconda3\\lib\\site-packages (from python-dateutil>=2.7->matplotlib) (1.16.0)\n"
     ]
    }
   ],
   "source": [
    "!pip install matplotlib"
   ]
  },
  {
   "cell_type": "code",
   "execution_count": 9,
   "metadata": {},
   "outputs": [
    {
     "name": "stdout",
     "output_type": "stream",
     "text": [
      "Fri Jan 26 16:04:34 2024       \n",
      "+---------------------------------------------------------------------------------------+\n",
      "| NVIDIA-SMI 546.26                 Driver Version: 546.26       CUDA Version: 12.3     |\n",
      "|-----------------------------------------+----------------------+----------------------+\n",
      "| GPU  Name                     TCC/WDDM  | Bus-Id        Disp.A | Volatile Uncorr. ECC |\n",
      "| Fan  Temp   Perf          Pwr:Usage/Cap |         Memory-Usage | GPU-Util  Compute M. |\n",
      "|                                         |                      |               MIG M. |\n",
      "|=========================================+======================+======================|\n",
      "|   0  NVIDIA GeForce RTX 3060 ...  WDDM  | 00000000:01:00.0 Off |                  N/A |\n",
      "| N/A   51C    P8               8W /  95W |    188MiB /  6144MiB |      0%      Default |\n",
      "|                                         |                      |                  N/A |\n",
      "+-----------------------------------------+----------------------+----------------------+\n",
      "                                                                                         \n",
      "+---------------------------------------------------------------------------------------+\n",
      "| Processes:                                                                            |\n",
      "|  GPU   GI   CI        PID   Type   Process name                            GPU Memory |\n",
      "|        ID   ID                                                             Usage      |\n",
      "|=======================================================================================|\n",
      "|    0   N/A  N/A      1276    C+G   ...Brave-Browser\\Application\\brave.exe    N/A      |\n",
      "+---------------------------------------------------------------------------------------+\n"
     ]
    }
   ],
   "source": [
    "!nvidia-smi"
   ]
  },
  {
   "cell_type": "code",
   "execution_count": null,
   "metadata": {},
   "outputs": [],
   "source": []
  },
  {
   "cell_type": "code",
   "execution_count": null,
   "metadata": {},
   "outputs": [],
   "source": []
  }
 ],
 "metadata": {
  "kernelspec": {
   "display_name": "base",
   "language": "python",
   "name": "python3"
  },
  "language_info": {
   "codemirror_mode": {
    "name": "ipython",
    "version": 3
   },
   "file_extension": ".py",
   "mimetype": "text/x-python",
   "name": "python",
   "nbconvert_exporter": "python",
   "pygments_lexer": "ipython3",
   "version": "3.10.13"
  }
 },
 "nbformat": 4,
 "nbformat_minor": 2
}
